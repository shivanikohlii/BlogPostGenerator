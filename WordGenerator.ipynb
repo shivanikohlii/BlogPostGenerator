{
 "cells": [
  {
   "cell_type": "code",
   "execution_count": 1,
   "metadata": {},
   "outputs": [
    {
     "name": "stderr",
     "output_type": "stream",
     "text": [
      "Using TensorFlow backend.\n"
     ]
    }
   ],
   "source": [
    "from __future__ import print_function\n",
    "from keras.callbacks import LambdaCallback\n",
    "from keras.models import Sequential\n",
    "from keras.layers import Dense, Activation,Dropout\n",
    "from keras.layers import LSTM\n",
    "from keras.optimizers import RMSprop\n",
    "from keras.utils.data_utils import get_file\n",
    "import numpy as np\n",
    "import random\n",
    "import sys\n",
    "import io\n",
    "import keras\n",
    "import os"
   ]
  },
  {
   "cell_type": "code",
   "execution_count": 2,
   "metadata": {},
   "outputs": [
    {
     "name": "stdout",
     "output_type": "stream",
     "text": [
      "corpus length: 637135\n"
     ]
    }
   ],
   "source": [
    "with io.open('Swami.txt', encoding='utf-8') as f:\n",
    "    text = f.read().lower()\n",
    "print('corpus length:', len(text))\n"
   ]
  },
  {
   "cell_type": "code",
   "execution_count": 3,
   "metadata": {},
   "outputs": [
    {
     "name": "stdout",
     "output_type": "stream",
     "text": [
      "112550\n"
     ]
    }
   ],
   "source": [
    "from nltk.tokenize import word_tokenize\n",
    "tokens = word_tokenize(text)\n",
    "words = [word for word in tokens if word.isalpha()]\n",
    "print(len(words))\n"
   ]
  },
  {
   "cell_type": "code",
   "execution_count": 17,
   "metadata": {
    "collapsed": true
   },
   "outputs": [],
   "source": [
    "words = words[:10000]"
   ]
  },
  {
   "cell_type": "code",
   "execution_count": 18,
   "metadata": {},
   "outputs": [
    {
     "name": "stdout",
     "output_type": "stream",
     "text": [
      "word_indices <class 'dict'> length: 2269\n",
      "indices_words <class 'dict'> length 10000\n"
     ]
    }
   ],
   "source": [
    "word_indices = dict((c, i) for i, c in enumerate(words))\n",
    "indices_word = dict((i, c) for i, c in enumerate(words))\n",
    "\n",
    "print(\"word_indices\", type(word_indices), \"length:\",len(word_indices) )\n",
    "print(\"indices_words\", type(indices_word), \"length\", len(indices_word))\n"
   ]
  },
  {
   "cell_type": "code",
   "execution_count": 19,
   "metadata": {},
   "outputs": [
    {
     "name": "stdout",
     "output_type": "stream",
     "text": [
      "maxlen: 20 step: 3\n"
     ]
    }
   ],
   "source": [
    "maxlen = 20\n",
    "step = 3\n",
    "print(\"maxlen:\",maxlen,\"step:\", step)\n",
    "sentences = []\n",
    "next_words = []\n",
    "next_words= []\n",
    "sentences1 = []\n",
    "list_words = []\n",
    "\n",
    "sentences2=[]\n",
    "list_words = words"
   ]
  },
  {
   "cell_type": "code",
   "execution_count": 20,
   "metadata": {},
   "outputs": [
    {
     "name": "stdout",
     "output_type": "stream",
     "text": [
      "nb sequences(length of sentences): 3327\n",
      "length of next_word 3327\n",
      "Vectorization...\n"
     ]
    }
   ],
   "source": [
    "for i in range(0,len(list_words)-maxlen, step):\n",
    "    sentences2 = ' '.join(list_words[i: i + maxlen])\n",
    "    sentences.append(sentences2)\n",
    "    next_words.append((list_words[i + maxlen]))\n",
    "print('nb sequences(length of sentences):', len(sentences))\n",
    "print(\"length of next_word\",len(next_words))\n",
    "\n",
    "print('Vectorization...')\n",
    "X = np.zeros((len(sentences), maxlen, len(words)), dtype=np.bool)\n",
    "y = np.zeros((len(sentences), len(words)), dtype=np.bool)\n",
    "for i, sentence in enumerate(sentences):\n",
    "    for t, word in enumerate(sentence.split()):\n",
    "        #print(i,t,word)\n",
    "        X[i, t, word_indices[word]] = 1\n",
    "    y[i, word_indices[next_words[i]]] = 1\n"
   ]
  },
  {
   "cell_type": "code",
   "execution_count": 21,
   "metadata": {},
   "outputs": [
    {
     "name": "stdout",
     "output_type": "stream",
     "text": [
      "Build model...\n"
     ]
    }
   ],
   "source": [
    "print('Build model...')\n",
    "model = Sequential()\n",
    "model.add(LSTM(128, return_sequences=True, input_shape=(maxlen, len(words))))\n",
    "model.add(Dropout(0.2))\n",
    "model.add(LSTM(128, return_sequences=False))\n",
    "model.add(Dropout(0.2))\n",
    "model.add(Dense(len(words)))\n",
    "model.add(Activation('softmax'))\n",
    "\n",
    "model.compile(loss='categorical_crossentropy', optimizer='rmsprop')"
   ]
  },
  {
   "cell_type": "code",
   "execution_count": 63,
   "metadata": {
    "scrolled": true
   },
   "outputs": [],
   "source": [
    "def sample(preds, temperature=1.0):\n",
    "    # helper function to sample an index from a probability array\n",
    "    preds = np.asarray(preds).astype('float64')\n",
    "    preds = np.log(preds) / temperature\n",
    "    exp_preds = np.exp(preds)\n",
    "    preds = exp_preds / np.sum(exp_preds)\n",
    "    probas = np.random.multinomial(1, preds, 1)\n",
    "    return np.argmax(probas)\n",
    "def on_epoch_end(epoch, logs):\n",
    "\n",
    "    file=open(\"output.txt\", \"a\")\n",
    "    start_index = random.randint(0, len(list_words) - maxlen - 1)\n",
    "    for diversity in [ 1.0, 1.2]:\n",
    "        file.write('\\n')\n",
    "        file.write('diversity is\\n')\n",
    "        file.write(str(diversity))\n",
    "        file.write('\\n')\n",
    "        generated = ''\n",
    "        sentence = list_words[start_index: start_index + maxlen]\n",
    "        generated += ' '.join(sentence)\n",
    "        file.write('Generated with seed\\n')\n",
    "        file.write(generated)\n",
    "        file.write('\\n')\n",
    "        for i in range(500):\n",
    "            x = np.zeros((1, maxlen, len(words)))\n",
    "            for t, word in enumerate(sentence):\n",
    "                x[0, t, word_indices[word]] = 1.\n",
    "\n",
    "            preds = model.predict(x, verbose=0)[0]\n",
    "            next_index = sample(preds, diversity)\n",
    "            next_word = indices_word[next_index]\n",
    "            generated += next_word\n",
    "            del sentence[0] \n",
    "            sentence.append(next_word)\n",
    "            file.write(' ')\n",
    "            file.write(next_word)\n",
    "        print()\n",
    "    file.close()"
   ]
  },
  {
   "cell_type": "code",
   "execution_count": null,
   "metadata": {
    "scrolled": true
   },
   "outputs": [
    {
     "name": "stdout",
     "output_type": "stream",
     "text": [
      "Epoch 1/300\n",
      "3072/3327 [==========================>...] - ETA: 0s - loss: 5.6696\n",
      "\n",
      "3327/3327 [==============================] - 44s 13ms/step - loss: 5.6749\n",
      "Epoch 2/300\n",
      "3072/3327 [==========================>...] - ETA: 0s - loss: 5.6461\n",
      "\n",
      "3327/3327 [==============================] - 44s 13ms/step - loss: 5.6533\n",
      "Epoch 3/300\n",
      "3072/3327 [==========================>...] - ETA: 0s - loss: 5.6179\n",
      "\n",
      "3327/3327 [==============================] - 45s 14ms/step - loss: 5.6241\n",
      "Epoch 4/300\n",
      "3072/3327 [==========================>...] - ETA: 0s - loss: 5.5754\n",
      "\n",
      "3327/3327 [==============================] - 45s 14ms/step - loss: 5.5926\n",
      "Epoch 5/300\n",
      "3072/3327 [==========================>...] - ETA: 0s - loss: 5.5920\n",
      "\n",
      "3327/3327 [==============================] - 44s 13ms/step - loss: 5.5905\n",
      "Epoch 6/300\n",
      "3072/3327 [==========================>...] - ETA: 0s - loss: 5.5611\n",
      "\n",
      "3327/3327 [==============================] - 44s 13ms/step - loss: 5.5653\n",
      "Epoch 7/300\n",
      "3072/3327 [==========================>...] - ETA: 0s - loss: 5.5363\n",
      "\n",
      "3327/3327 [==============================] - 44s 13ms/step - loss: 5.5479\n",
      "Epoch 8/300\n",
      "3072/3327 [==========================>...] - ETA: 0s - loss: 5.4961"
     ]
    }
   ],
   "source": [
    "print_callback = LambdaCallback(on_epoch_end=on_epoch_end)\n",
    "\n",
    "model.fit(X, y, #Big X for words\n",
    "          batch_size=256,\n",
    "          epochs=300,\n",
    "          callbacks=[print_callback])"
   ]
  },
  {
   "cell_type": "code",
   "execution_count": null,
   "metadata": {
    "collapsed": true
   },
   "outputs": [],
   "source": []
  }
 ],
 "metadata": {
  "kernelspec": {
   "display_name": "Python 3",
   "language": "python",
   "name": "python3"
  },
  "language_info": {
   "codemirror_mode": {
    "name": "ipython",
    "version": 3
   },
   "file_extension": ".py",
   "mimetype": "text/x-python",
   "name": "python",
   "nbconvert_exporter": "python",
   "pygments_lexer": "ipython3",
   "version": "3.6.1"
  }
 },
 "nbformat": 4,
 "nbformat_minor": 2
}
